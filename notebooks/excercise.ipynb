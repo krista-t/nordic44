{
 "cells": [
  {
   "cell_type": "code",
   "execution_count": 1,
   "metadata": {},
   "outputs": [],
   "source": [
    "from xml.etree import ElementTree as etree\n",
    "\n",
    "\n",
    "from nordic44.utils import count_instances, get_counts_per_object_types, get_instance_id_and_name, get_all_ac_line_segments, get_all_substations"
   ]
  },
  {
   "cell_type": "code",
   "execution_count": 2,
   "metadata": {},
   "outputs": [],
   "source": [
    "nordic44_xml_data = etree.parse(\"../data/Nordic44_CGM_37a_EQ.xml\").getroot()"
   ]
  },
  {
   "cell_type": "markdown",
   "metadata": {},
   "source": [
    "Count the instances of cim:Substation in the file. The number should be 44. (Nordic44)"
   ]
  },
  {
   "cell_type": "code",
   "execution_count": 3,
   "metadata": {},
   "outputs": [
    {
     "data": {
      "text/plain": [
       "44"
      ]
     },
     "execution_count": 3,
     "metadata": {},
     "output_type": "execute_result"
    }
   ],
   "source": [
    "count_instances(nordic44_xml_data, \"Substation\")"
   ]
  },
  {
   "cell_type": "markdown",
   "metadata": {},
   "source": [
    "Count the number of some (or all) other classes"
   ]
  },
  {
   "cell_type": "code",
   "execution_count": 4,
   "metadata": {},
   "outputs": [
    {
     "name": "stdout",
     "output_type": "stream",
     "text": [
      "FullModel                          1\n",
      "ACLineSegment                     68\n",
      "ActivePowerLimit                   6\n",
      "Analog                            30\n",
      "AnalogValue                      133\n",
      "BasePower                          1\n",
      "BaseVoltage                        3\n",
      "Bay                               16\n",
      "Breaker                           29\n",
      "BusbarSection                     46\n",
      "ConformLoad                       35\n",
      "ConformLoadGroup                  35\n",
      "ConnectivityNode                  89\n",
      "ControlArea                        3\n",
      "ControlAreaGeneratingUnit         10\n",
      "CurrentLimit                     530\n",
      "Disconnector                      26\n",
      "GeneratingUnit                    80\n",
      "GeographicalRegion                 1\n",
      "Line                              68\n",
      "LinearShuntCompensator             8\n",
      "LoadArea                           3\n",
      "LoadResponseCharacteristic         1\n",
      "MeasurementValueSource            12\n",
      "NonConformLoad                    13\n",
      "NonConformLoadGroup               13\n",
      "OperatingParticipant               1\n",
      "OperatingShare                   207\n",
      "OperationalLimitSet              238\n",
      "OperationalLimitType              13\n",
      "PowerTransformer                  12\n",
      "PowerTransformerEnd               24\n",
      "RatioTapChanger                   12\n",
      "RegulatingControl                 18\n",
      "SubGeographicalRegion             10\n",
      "SubLoadArea                       10\n",
      "Substation                        44\n",
      "SynchronousMachine                80\n",
      "TapChangerControl                 12\n",
      "Terminal                         452\n",
      "VoltageLevel                      45\n",
      "VoltageLimit                     184\n",
      "CircuitShare                       2\n",
      "EnergyCongestionZone              10\n",
      "EnergySchedulingArea              11\n",
      "LineCircuit                        2\n",
      "PowerTransferCorridor              1\n",
      "RateTemperature                   13\n",
      "Gate                               5\n",
      "PinEquipment                       4\n",
      "PinGate                            2\n",
      "PinTerminal                        4\n",
      "ProtectiveActionAdjustment         3\n",
      "ProtectiveActionCollection         3\n",
      "ProtectiveActionEquipment          5\n",
      "RemedialActionScheme               3\n",
      "Stage                              3\n",
      "StageTrigger                       3\n",
      "ScheduleResourceGeneration        16\n"
     ]
    }
   ],
   "source": [
    "count_per_object_type = get_counts_per_object_types(nordic44_xml_data)\n",
    "for key, value in count_per_object_type.items():\n",
    "    print(f\"{key:30} {value:5}\")"
   ]
  },
  {
   "cell_type": "markdown",
   "metadata": {},
   "source": [
    "Print the rdf:ID of all Substations along with the names (cim:IdentifiedObject.name). Use child.attrib to get the rdf:ID of an instance."
   ]
  },
  {
   "cell_type": "code",
   "execution_count": 5,
   "metadata": {},
   "outputs": [
    {
     "name": "stdout",
     "output_type": "stream",
     "text": [
      "_f17695fe-9aeb-11e5-91da-b8763fd99c5f AJAURE\n",
      "_f1769670-9aeb-11e5-91da-b8763fd99c5f ARENDAL\n",
      "_f17696d4-9aeb-11e5-91da-b8763fd99c5f ARRIE_HVDC\n",
      "_f176964e-9aeb-11e5-91da-b8763fd99c5f ASKER\n",
      "_f176962a-9aeb-11e5-91da-b8763fd99c5f AURLAND\n",
      "_f176968e-9aeb-11e5-91da-b8763fd99c5f BLAFALLI\n",
      "_f1769614-9aeb-11e5-91da-b8763fd99c5f DAGALI\n",
      "_f17695b8-9aeb-11e5-91da-b8763fd99c5f DANNEBO_HVDC\n",
      "_f1769636-9aeb-11e5-91da-b8763fd99c5f EIDFJORD\n",
      "_f17696be-9aeb-11e5-91da-b8763fd99c5f ESTLINK_HVDC\n",
      "_f176967c-9aeb-11e5-91da-b8763fd99c5f FEDA_HVDC\n",
      "_f17695aa-9aeb-11e5-91da-b8763fd99c5f FORSMARK\n",
      "_f1769630-9aeb-11e5-91da-b8763fd99c5f GEILO\n",
      "_f17695e5-9aeb-11e5-91da-b8763fd99c5f GRUNDFORS\n",
      "_f1769688-9aeb-11e5-91da-b8763fd99c5f HAGAFOSS\n",
      "_f176960e-9aeb-11e5-91da-b8763fd99c5f HALDEN\n",
      "_f17696ae-9aeb-11e5-91da-b8763fd99c5f HELSINKI\n",
      "_f17695be-9aeb-11e5-91da-b8763fd99c5f HJALTA\n",
      "_f17695d8-9aeb-11e5-91da-b8763fd99c5f HOGASEN\n",
      "_f17695df-9aeb-11e5-91da-b8763fd99c5f JARPSTROMMEN\n",
      "_f17696da-9aeb-11e5-91da-b8763fd99c5f KARLSH_HVDC\n",
      "_f176961e-9aeb-11e5-91da-b8763fd99c5f KONGSBERG\n",
      "_f176965a-9aeb-11e5-91da-b8763fd99c5f KRISTIANSAND\n",
      "_f1769676-9aeb-11e5-91da-b8763fd99c5f KRISTIA_HVDC\n",
      "_f1769682-9aeb-11e5-91da-b8763fd99c5f KVILLDAL\n",
      "_f17696ca-9aeb-11e5-91da-b8763fd99c5f MALMO\n",
      "_f176969e-9aeb-11e5-91da-b8763fd99c5f MO   \n",
      "_f17696a8-9aeb-11e5-91da-b8763fd99c5f NARVIK\n",
      "_f17695eb-9aeb-11e5-91da-b8763fd99c5f OSKARSHAMN\n",
      "_f176963c-9aeb-11e5-91da-b8763fd99c5f OSLO \n",
      "_f17696c4-9aeb-11e5-91da-b8763fd99c5f OULU \n",
      "_f17695c8-9aeb-11e5-91da-b8763fd99c5f PORJUS\n",
      "_f17695f1-9aeb-11e5-91da-b8763fd99c5f RINGHALS\n",
      "_f176966a-9aeb-11e5-91da-b8763fd99c5f SANDEFJORD\n",
      "_f1769624-9aeb-11e5-91da-b8763fd99c5f SIMA \n",
      "_f1769654-9aeb-11e5-91da-b8763fd99c5f SKIEN\n",
      "_f1769664-9aeb-11e5-91da-b8763fd99c5f STAVANGER\n",
      "_f17695f7-9aeb-11e5-91da-b8763fd99c5f STENKU_HVDC\n",
      "_f1769642-9aeb-11e5-91da-b8763fd99c5f SYLLING\n",
      "_f1769648-9aeb-11e5-91da-b8763fd99c5f SYSLE\n",
      "_f17695d2-9aeb-11e5-91da-b8763fd99c5f TENHULT\n",
      "_f1769604-9aeb-11e5-91da-b8763fd99c5f TRETTEN\n",
      "_f1769694-9aeb-11e5-91da-b8763fd99c5f TRONDHEIM\n",
      "_f17696b8-9aeb-11e5-91da-b8763fd99c5f VYBORG_HVDC\n"
     ]
    }
   ],
   "source": [
    "instance_id_and_name = get_instance_id_and_name(nordic44_xml_data, \"Substation\")\n",
    "\n",
    "for key, value in instance_id_and_name.items():\n",
    "    print(f\"{key:30} {value:5}\")"
   ]
  },
  {
   "cell_type": "markdown",
   "metadata": {},
   "source": [
    "An ACLineSegment is a power line. The resistance of the line is modelled as cim:ACLineSegment.r under the ACLineSegment. Create a class for ACLineSegment where you store the name, rdf:ID and resistance.\n",
    "Print the 10 ACLineSegments with highest resistance"
   ]
  },
  {
   "cell_type": "code",
   "execution_count": 6,
   "metadata": {},
   "outputs": [],
   "source": [
    "ac_line_segments = get_all_ac_line_segments(nordic44_xml_data, \"ACLineSegment\")\n"
   ]
  },
  {
   "cell_type": "code",
   "execution_count": 7,
   "metadata": {},
   "outputs": [],
   "source": [
    "ac_line_id_and_resistance = [[ac_line_segment.rdf_ID, ac_line_segment.resistance] for ac_line_segment in ac_line_segments.values()]\n"
   ]
  },
  {
   "cell_type": "code",
   "execution_count": 8,
   "metadata": {},
   "outputs": [
    {
     "name": "stdout",
     "output_type": "stream",
     "text": [
      "_f1769b90-9aeb-11e5-91da-b8763fd99c5f       22.5\n",
      "_f1769d10-9aeb-11e5-91da-b8763fd99c5f       15.3\n",
      "_f1769ac4-9aeb-11e5-91da-b8763fd99c5f     14.112\n",
      "_f1769a4c-9aeb-11e5-91da-b8763fd99c5f      13.23\n",
      "_f1769d1c-9aeb-11e5-91da-b8763fd99c5f        9.0\n",
      "_f1769adc-9aeb-11e5-91da-b8763fd99c5f      7.938\n",
      "_f1769ba8-9aeb-11e5-91da-b8763fd99c5f        7.2\n",
      "_f1769d40-9aeb-11e5-91da-b8763fd99c5f      7.056\n",
      "_f1769d4c-9aeb-11e5-91da-b8763fd99c5f      7.056\n",
      "_f1769d58-9aeb-11e5-91da-b8763fd99c5f      7.056\n"
     ]
    }
   ],
   "source": [
    "ac_line_id_and_resistance.sort(key=lambda x: x[1], reverse=True)\n",
    "top_10 = ac_line_id_and_resistance[:10]\n",
    "\n",
    "for item in top_10:\n",
    "    print(f\"{item[0]:25} {item[1]:10}\")"
   ]
  },
  {
   "cell_type": "markdown",
   "metadata": {},
   "source": [
    "Each cim:Substation belongs to a cim:SubGeographicalRegion. This relationship is modelled in each cim:Substation instance via rdf:resource under the  cim:SubGeographicalRegion.Region tag. Use child_child.attrib to get the rdf:resource. Print all Substations and which cim:SubGeographicalRegion they belong to."
   ]
  },
  {
   "cell_type": "code",
   "execution_count": 9,
   "metadata": {},
   "outputs": [
    {
     "name": "stdout",
     "output_type": "stream",
     "text": [
      "Substations                              SubGeographicalRegion\n",
      "_f17695fe-9aeb-11e5-91da-b8763fd99c5f -> #_f17695c3-9aeb-11e5-91da-b8763fd99c5f\n",
      "_f1769670-9aeb-11e5-91da-b8763fd99c5f -> #_f176965f-9aeb-11e5-91da-b8763fd99c5f\n",
      "_f17696d4-9aeb-11e5-91da-b8763fd99c5f -> #_f17696cf-9aeb-11e5-91da-b8763fd99c5f\n",
      "_f176964e-9aeb-11e5-91da-b8763fd99c5f -> #_f1769609-9aeb-11e5-91da-b8763fd99c5f\n",
      "_f176962a-9aeb-11e5-91da-b8763fd99c5f -> #_f1769619-9aeb-11e5-91da-b8763fd99c5f\n",
      "_f176968e-9aeb-11e5-91da-b8763fd99c5f -> #_f176965f-9aeb-11e5-91da-b8763fd99c5f\n",
      "_f1769614-9aeb-11e5-91da-b8763fd99c5f -> #_f1769619-9aeb-11e5-91da-b8763fd99c5f\n",
      "_f17695b8-9aeb-11e5-91da-b8763fd99c5f -> #_f17695af-9aeb-11e5-91da-b8763fd99c5f\n",
      "_f1769636-9aeb-11e5-91da-b8763fd99c5f -> #_f1769619-9aeb-11e5-91da-b8763fd99c5f\n",
      "_f17696be-9aeb-11e5-91da-b8763fd99c5f -> #_f17696b3-9aeb-11e5-91da-b8763fd99c5f\n",
      "_f176967c-9aeb-11e5-91da-b8763fd99c5f -> #_f176965f-9aeb-11e5-91da-b8763fd99c5f\n",
      "_f17695aa-9aeb-11e5-91da-b8763fd99c5f -> #_f17695af-9aeb-11e5-91da-b8763fd99c5f\n",
      "_f1769630-9aeb-11e5-91da-b8763fd99c5f -> #_f1769619-9aeb-11e5-91da-b8763fd99c5f\n",
      "_f17695e5-9aeb-11e5-91da-b8763fd99c5f -> #_f17695c3-9aeb-11e5-91da-b8763fd99c5f\n",
      "_f1769688-9aeb-11e5-91da-b8763fd99c5f -> #_f1769619-9aeb-11e5-91da-b8763fd99c5f\n",
      "_f176960e-9aeb-11e5-91da-b8763fd99c5f -> #_f1769609-9aeb-11e5-91da-b8763fd99c5f\n",
      "_f17696ae-9aeb-11e5-91da-b8763fd99c5f -> #_f17696b3-9aeb-11e5-91da-b8763fd99c5f\n",
      "_f17695be-9aeb-11e5-91da-b8763fd99c5f -> #_f17695c3-9aeb-f11e5-91da-b8763fd99c5f\n",
      "_f17695d8-9aeb-11e5-91da-b8763fd99c5f -> #_f17695c3-9aeb-11e5-91da-b8763fd99c5f\n",
      "_f17695df-9aeb-11e5-91da-b8763fd99c5f -> #_f17695c3-9aeb-11e5-91da-b8763fd99c5f\n",
      "_f17696da-9aeb-11e5-91da-b8763fd99c5f -> #_f17696cf-9aeb-11e5-91da-b8763fd99c5f\n",
      "_f176961e-9aeb-11e5-91da-b8763fd99c5f -> #_f1769609-9aeb-11e5-91da-b8763fd99c5f\n",
      "_f176965a-9aeb-11e5-91da-b8763fd99c5f -> #_f176965f-9aeb-11e5-91da-b8763fd99c5f\n",
      "_f1769676-9aeb-11e5-91da-b8763fd99c5f -> #_f176965f-9aeb-11e5-91da-b8763fd99c5f\n",
      "_f1769682-9aeb-11e5-91da-b8763fd99c5f -> #_f176965f-9aeb-11e5-91da-b8763fd99c5f\n",
      "_f17696ca-9aeb-11e5-91da-b8763fd99c5f -> #_f17696cf-9aeb-11e5-91da-b8763fd99c5f\n",
      "_f176969e-9aeb-11e5-91da-b8763fd99c5f -> #_f17696a3-9aeb-11e5-91da-b8763fd99c5f\n",
      "_f17696a8-9aeb-11e5-91da-b8763fd99c5f -> #_f17696a3-9aeb-11e5-91da-b8763fd99c5f\n",
      "_f17695eb-9aeb-11e5-91da-b8763fd99c5f -> #_f17695af-9aeb-11e5-91da-b8763fd99c5f\n",
      "_f176963c-9aeb-11e5-91da-b8763fd99c5f -> #_f1769609-9aeb-11e5-91da-b8763fd99c5f\n",
      "_f17696c4-9aeb-11e5-91da-b8763fd99c5f -> #_f17696b3-9aeb-11e5-91da-b8763fd99c5f\n",
      "_f17695c8-9aeb-11e5-91da-b8763fd99c5f -> #_f17695cd-9aeb-11e5-91da-b8763fd99c5f\n",
      "_f17695f1-9aeb-11e5-91da-b8763fd99c5f -> #_f17695af-9aeb-11e5-91da-b8763fd99c5f\n",
      "_f176966a-9aeb-11e5-91da-b8763fd99c5f -> #_f176965f-9aeb-11e5-91da-b8763fd99c5f\n",
      "_f1769624-9aeb-11e5-91da-b8763fd99c5f -> #_f1769619-9aeb-11e5-91da-b8763fd99c5f\n",
      "_f1769654-9aeb-11e5-91da-b8763fd99c5f -> #_f1769609-9aeb-11e5-91da-b8763fd99c5f\n",
      "_f1769664-9aeb-11e5-91da-b8763fd99c5f -> #_f176965f-9aeb-11e5-91da-b8763fd99c5f\n",
      "_f17695f7-9aeb-11e5-91da-b8763fd99c5f -> #_f17695af-9aeb-11e5-91da-b8763fd99c5f\n",
      "_f1769642-9aeb-11e5-91da-b8763fd99c5f -> #_f1769609-9aeb-11e5-91da-b8763fd99c5f\n",
      "_f1769648-9aeb-11e5-91da-b8763fd99c5f -> #_f1769609-9aeb-11e5-91da-b8763fd99c5f\n",
      "_f17695d2-9aeb-11e5-91da-b8763fd99c5f -> #_f17695af-9aeb-11e5-91da-b8763fd99c5f\n",
      "_f1769604-9aeb-11e5-91da-b8763fd99c5f -> #_f1769609-9aeb-11e5-91da-b8763fd99c5f\n",
      "_f1769694-9aeb-11e5-91da-b8763fd99c5f -> #_f1769699-9aeb-11e5-91da-b8763fd99c5f\n",
      "_f17696b8-9aeb-11e5-91da-b8763fd99c5f -> #_f17696b3-9aeb-11e5-91da-b8763fd99c5f\n"
     ]
    }
   ],
   "source": [
    "all_substations = get_all_substations(nordic44_xml_data, \"Substation\")\n",
    "\n",
    "print(\"Substations                              SubGeographicalRegion\")\n",
    "for key, value in all_substations.items():\n",
    "   print(f\"{key} -> {value.region}\")"
   ]
  },
  {
   "cell_type": "code",
   "execution_count": 10,
   "metadata": {},
   "outputs": [
    {
     "name": "stdout",
     "output_type": "stream",
     "text": [
      "Warning: When  cdn_resources is 'local' jupyter notebook has issues displaying graphics on chrome/safari. Use cdn_resources='in_line' or cdn_resources='remote' if you have issues viewing graphics in a notebook.\n",
      "substations_geographical_regions.html\n"
     ]
    },
    {
     "data": {
      "text/html": [
       "\n",
       "        <iframe\n",
       "            width=\"100%\"\n",
       "            height=\"600px\"\n",
       "            src=\"substations_geographical_regions.html\"\n",
       "            frameborder=\"0\"\n",
       "            allowfullscreen\n",
       "            \n",
       "        ></iframe>\n",
       "        "
      ],
      "text/plain": [
       "<IPython.lib.display.IFrame at 0x10fc6f8d0>"
      ]
     },
     "execution_count": 10,
     "metadata": {},
     "output_type": "execute_result"
    }
   ],
   "source": [
    "from pyvis.network import Network\n",
    "\n",
    "net = Network(notebook=True)\n",
    "\n",
    "for key, value in all_substations.items():\n",
    "    net.add_node(key) \n",
    "    net.add_node(value.region, color=\"red\", label = \"SubGeographicalRegion\")  \n",
    "    net.add_edge(key, value.region)  \n",
    "\n",
    "net.show(\"substations_geographical_regions.html\")"
   ]
  }
 ],
 "metadata": {
  "kernelspec": {
   "display_name": "Python 3 (ipykernel)",
   "language": "python",
   "name": "python3"
  },
  "language_info": {
   "codemirror_mode": {
    "name": "ipython",
    "version": 3
   },
   "file_extension": ".py",
   "mimetype": "text/x-python",
   "name": "python",
   "nbconvert_exporter": "python",
   "pygments_lexer": "ipython3",
   "version": "3.11.3"
  }
 },
 "nbformat": 4,
 "nbformat_minor": 2
}
